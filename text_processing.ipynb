{
 "cells": [
  {
   "cell_type": "code",
   "execution_count": 4,
   "id": "27c0be81-56aa-4119-9d4b-1c5159376ce7",
   "metadata": {
    "collapsed": true,
    "jupyter": {
     "outputs_hidden": true
    }
   },
   "outputs": [
    {
     "name": "stdout",
     "output_type": "stream",
     "text": [
      "Collecting transformers\n",
      "  Downloading transformers-4.39.0-py3-none-any.whl (8.8 MB)\n",
      "\u001b[2K     \u001b[90m━━━━━━━━━━━━━━━━━━━━━━━━━━━━━━━━━━━━━━━━\u001b[0m \u001b[32m8.8/8.8 MB\u001b[0m \u001b[31m21.8 MB/s\u001b[0m eta \u001b[36m0:00:00\u001b[0m00:01\u001b[0m00:01\u001b[0m\n",
      "\u001b[?25hRequirement already satisfied: packaging>=20.0 in /home/clement/.pyenv/versions/3.10.6/envs/gameforecast-GPU/lib/python3.10/site-packages (from transformers) (24.0)\n",
      "Requirement already satisfied: numpy>=1.17 in /home/clement/.pyenv/versions/3.10.6/envs/gameforecast-GPU/lib/python3.10/site-packages (from transformers) (1.26.4)\n",
      "Collecting tokenizers<0.19,>=0.14\n",
      "  Downloading tokenizers-0.15.2-cp310-cp310-manylinux_2_17_x86_64.manylinux2014_x86_64.whl (3.6 MB)\n",
      "\u001b[2K     \u001b[90m━━━━━━━━━━━━━━━━━━━━━━━━━━━━━━━━━━━━━━━━\u001b[0m \u001b[32m3.6/3.6 MB\u001b[0m \u001b[31m43.2 MB/s\u001b[0m eta \u001b[36m0:00:00\u001b[0m00:01\u001b[0m00:01\u001b[0m\n",
      "\u001b[?25hCollecting safetensors>=0.4.1\n",
      "  Downloading safetensors-0.4.2-cp310-cp310-manylinux_2_17_x86_64.manylinux2014_x86_64.whl (1.3 MB)\n",
      "\u001b[2K     \u001b[90m━━━━━━━━━━━━━━━━━━━━━━━━━━━━━━━━━━━━━━━━\u001b[0m \u001b[32m1.3/1.3 MB\u001b[0m \u001b[31m64.4 MB/s\u001b[0m eta \u001b[36m0:00:00\u001b[0m\n",
      "\u001b[?25hCollecting tqdm>=4.27\n",
      "  Downloading tqdm-4.66.2-py3-none-any.whl (78 kB)\n",
      "\u001b[2K     \u001b[90m━━━━━━━━━━━━━━━━━━━━━━━━━━━━━━━━━━━━━━━━\u001b[0m \u001b[32m78.3/78.3 kB\u001b[0m \u001b[31m18.7 MB/s\u001b[0m eta \u001b[36m0:00:00\u001b[0m\n",
      "\u001b[?25hCollecting filelock\n",
      "  Downloading filelock-3.13.1-py3-none-any.whl (11 kB)\n",
      "Collecting regex!=2019.12.17\n",
      "  Downloading regex-2023.12.25-cp310-cp310-manylinux_2_17_x86_64.manylinux2014_x86_64.whl (773 kB)\n",
      "\u001b[2K     \u001b[90m━━━━━━━━━━━━━━━━━━━━━━━━━━━━━━━━━━━━━━\u001b[0m \u001b[32m774.0/774.0 kB\u001b[0m \u001b[31m72.4 MB/s\u001b[0m eta \u001b[36m0:00:00\u001b[0m\n",
      "\u001b[?25hCollecting huggingface-hub<1.0,>=0.19.3\n",
      "  Downloading huggingface_hub-0.21.4-py3-none-any.whl (346 kB)\n",
      "\u001b[2K     \u001b[90m━━━━━━━━━━━━━━━━━━━━━━━━━━━━━━━━━━━━━━\u001b[0m \u001b[32m346.4/346.4 kB\u001b[0m \u001b[31m64.1 MB/s\u001b[0m eta \u001b[36m0:00:00\u001b[0m\n",
      "\u001b[?25hRequirement already satisfied: pyyaml>=5.1 in /home/clement/.pyenv/versions/3.10.6/envs/gameforecast-GPU/lib/python3.10/site-packages (from transformers) (6.0.1)\n",
      "Requirement already satisfied: requests in /home/clement/.pyenv/versions/3.10.6/envs/gameforecast-GPU/lib/python3.10/site-packages (from transformers) (2.31.0)\n",
      "Collecting fsspec>=2023.5.0\n",
      "  Downloading fsspec-2024.3.1-py3-none-any.whl (171 kB)\n",
      "\u001b[2K     \u001b[90m━━━━━━━━━━━━━━━━━━━━━━━━━━━━━━━━━━━━━━\u001b[0m \u001b[32m172.0/172.0 kB\u001b[0m \u001b[31m41.4 MB/s\u001b[0m eta \u001b[36m0:00:00\u001b[0m\n",
      "\u001b[?25hRequirement already satisfied: typing-extensions>=3.7.4.3 in /home/clement/.pyenv/versions/3.10.6/envs/gameforecast-GPU/lib/python3.10/site-packages (from huggingface-hub<1.0,>=0.19.3->transformers) (4.10.0)\n",
      "Requirement already satisfied: charset-normalizer<4,>=2 in /home/clement/.pyenv/versions/3.10.6/envs/gameforecast-GPU/lib/python3.10/site-packages (from requests->transformers) (3.3.2)\n",
      "Requirement already satisfied: certifi>=2017.4.17 in /home/clement/.pyenv/versions/3.10.6/envs/gameforecast-GPU/lib/python3.10/site-packages (from requests->transformers) (2024.2.2)\n",
      "Requirement already satisfied: urllib3<3,>=1.21.1 in /home/clement/.pyenv/versions/3.10.6/envs/gameforecast-GPU/lib/python3.10/site-packages (from requests->transformers) (2.2.1)\n",
      "Requirement already satisfied: idna<4,>=2.5 in /home/clement/.pyenv/versions/3.10.6/envs/gameforecast-GPU/lib/python3.10/site-packages (from requests->transformers) (3.6)\n",
      "Installing collected packages: tqdm, safetensors, regex, fsspec, filelock, huggingface-hub, tokenizers, transformers\n",
      "Successfully installed filelock-3.13.1 fsspec-2024.3.1 huggingface-hub-0.21.4 regex-2023.12.25 safetensors-0.4.2 tokenizers-0.15.2 tqdm-4.66.2 transformers-4.39.0\n",
      "\n",
      "\u001b[1m[\u001b[0m\u001b[34;49mnotice\u001b[0m\u001b[1;39;49m]\u001b[0m\u001b[39;49m A new release of pip available: \u001b[0m\u001b[31;49m22.2.1\u001b[0m\u001b[39;49m -> \u001b[0m\u001b[32;49m24.0\u001b[0m\n",
      "\u001b[1m[\u001b[0m\u001b[34;49mnotice\u001b[0m\u001b[1;39;49m]\u001b[0m\u001b[39;49m To update, run: \u001b[0m\u001b[32;49mpython3.10 -m pip install --upgrade pip\u001b[0m\n"
     ]
    }
   ],
   "source": [
    "!pip install transformers"
   ]
  },
  {
   "cell_type": "code",
   "execution_count": 14,
   "id": "84928516-6785-40c0-999a-136ebf08ad8f",
   "metadata": {
    "collapsed": true,
    "jupyter": {
     "outputs_hidden": true
    }
   },
   "outputs": [
    {
     "name": "stderr",
     "output_type": "stream",
     "text": [
      "huggingface/tokenizers: The current process just got forked, after parallelism has already been used. Disabling parallelism to avoid deadlocks...\n",
      "To disable this warning, you can either:\n",
      "\t- Avoid using `tokenizers` before the fork if possible\n",
      "\t- Explicitly set the environment variable TOKENIZERS_PARALLELISM=(true | false)\n"
     ]
    },
    {
     "name": "stdout",
     "output_type": "stream",
     "text": [
      "Collecting torch\n",
      "  Downloading torch-2.2.1-cp310-cp310-manylinux1_x86_64.whl (755.5 MB)\n",
      "\u001b[2K     \u001b[90m━━━━━━━━━━━━━━━━━━━━━━━━━━━━━━━━━━━━━━━\u001b[0m \u001b[32m755.5/755.5 MB\u001b[0m \u001b[31m1.3 MB/s\u001b[0m eta \u001b[36m0:00:00\u001b[0m00:01\u001b[0m00:01\u001b[0m\n",
      "\u001b[?25hCollecting networkx\n",
      "  Downloading networkx-3.2.1-py3-none-any.whl (1.6 MB)\n",
      "\u001b[2K     \u001b[90m━━━━━━━━━━━━━━━━━━━━━━━━━━━━━━━━━━━━━━━━\u001b[0m \u001b[32m1.6/1.6 MB\u001b[0m \u001b[31m33.2 MB/s\u001b[0m eta \u001b[36m0:00:00\u001b[0ma \u001b[36m0:00:01\u001b[0m\n",
      "\u001b[?25hCollecting nvidia-cuda-cupti-cu12==12.1.105\n",
      "  Downloading nvidia_cuda_cupti_cu12-12.1.105-py3-none-manylinux1_x86_64.whl (14.1 MB)\n",
      "\u001b[2K     \u001b[90m━━━━━━━━━━━━━━━━━━━━━━━━━━━━━━━━━━━━━━━━\u001b[0m \u001b[32m14.1/14.1 MB\u001b[0m \u001b[31m36.7 MB/s\u001b[0m eta \u001b[36m0:00:00\u001b[0m00:01\u001b[0m00:01\u001b[0m\n",
      "\u001b[?25hRequirement already satisfied: typing-extensions>=4.8.0 in /home/clement/.pyenv/versions/3.10.6/envs/gameforecast-GPU/lib/python3.10/site-packages (from torch) (4.10.0)\n",
      "Requirement already satisfied: nvidia-nccl-cu12==2.19.3 in /home/clement/.pyenv/versions/3.10.6/envs/gameforecast-GPU/lib/python3.10/site-packages (from torch) (2.19.3)\n",
      "Collecting nvidia-nvtx-cu12==12.1.105\n",
      "  Downloading nvidia_nvtx_cu12-12.1.105-py3-none-manylinux1_x86_64.whl (99 kB)\n",
      "\u001b[2K     \u001b[90m━━━━━━━━━━━━━━━━━━━━━━━━━━━━━━━━━━━━━━━━\u001b[0m \u001b[32m99.1/99.1 kB\u001b[0m \u001b[31m25.8 MB/s\u001b[0m eta \u001b[36m0:00:00\u001b[0m\n",
      "\u001b[?25hRequirement already satisfied: filelock in /home/clement/.pyenv/versions/3.10.6/envs/gameforecast-GPU/lib/python3.10/site-packages (from torch) (3.13.1)\n",
      "Collecting sympy\n",
      "  Downloading sympy-1.12-py3-none-any.whl (5.7 MB)\n",
      "\u001b[2K     \u001b[90m━━━━━━━━━━━━━━━━━━━━━━━━━━━━━━━━━━━━━━━━\u001b[0m \u001b[32m5.7/5.7 MB\u001b[0m \u001b[31m37.1 MB/s\u001b[0m eta \u001b[36m0:00:00\u001b[0ma \u001b[36m0:00:01\u001b[0m\n",
      "\u001b[?25hCollecting nvidia-cuda-nvrtc-cu12==12.1.105\n",
      "  Downloading nvidia_cuda_nvrtc_cu12-12.1.105-py3-none-manylinux1_x86_64.whl (23.7 MB)\n",
      "\u001b[2K     \u001b[90m━━━━━━━━━━━━━━━━━━━━━━━━━━━━━━━━━━━━━━━━\u001b[0m \u001b[32m23.7/23.7 MB\u001b[0m \u001b[31m36.6 MB/s\u001b[0m eta \u001b[36m0:00:00\u001b[0m00:01\u001b[0m00:01\u001b[0m\n",
      "\u001b[?25hCollecting nvidia-curand-cu12==10.3.2.106\n",
      "  Downloading nvidia_curand_cu12-10.3.2.106-py3-none-manylinux1_x86_64.whl (56.5 MB)\n",
      "\u001b[2K     \u001b[90m━━━━━━━━━━━━━━━━━━━━━━━━━━━━━━━━━━━━━━━━\u001b[0m \u001b[32m56.5/56.5 MB\u001b[0m \u001b[31m23.1 MB/s\u001b[0m eta \u001b[36m0:00:00\u001b[0m00:01\u001b[0m00:01\u001b[0m\n",
      "\u001b[?25hCollecting nvidia-cusolver-cu12==11.4.5.107\n",
      "  Downloading nvidia_cusolver_cu12-11.4.5.107-py3-none-manylinux1_x86_64.whl (124.2 MB)\n",
      "\u001b[2K     \u001b[90m━━━━━━━━━━━━━━━━━━━━━━━━━━━━━━━━━━━━━━\u001b[0m \u001b[32m124.2/124.2 MB\u001b[0m \u001b[31m12.5 MB/s\u001b[0m eta \u001b[36m0:00:00\u001b[0m00:01\u001b[0m00:01\u001b[0m\n",
      "\u001b[?25hCollecting triton==2.2.0\n",
      "  Downloading triton-2.2.0-cp310-cp310-manylinux_2_17_x86_64.manylinux2014_x86_64.whl (167.9 MB)\n",
      "\u001b[2K     \u001b[90m━━━━━━━━━━━━━━━━━━━━━━━━━━━━━━━━━━━━━━\u001b[0m \u001b[32m167.9/167.9 MB\u001b[0m \u001b[31m16.3 MB/s\u001b[0m eta \u001b[36m0:00:00\u001b[0m00:01\u001b[0m00:01\u001b[0m\n",
      "\u001b[?25hRequirement already satisfied: fsspec in /home/clement/.pyenv/versions/3.10.6/envs/gameforecast-GPU/lib/python3.10/site-packages (from torch) (2024.3.1)\n",
      "Collecting nvidia-cufft-cu12==11.0.2.54\n",
      "  Downloading nvidia_cufft_cu12-11.0.2.54-py3-none-manylinux1_x86_64.whl (121.6 MB)\n",
      "\u001b[2K     \u001b[90m━━━━━━━━━━━━━━━━━━━━━━━━━━━━━━━━━━━━━━\u001b[0m \u001b[32m121.6/121.6 MB\u001b[0m \u001b[31m20.6 MB/s\u001b[0m eta \u001b[36m0:00:00\u001b[0m00:01\u001b[0m00:01\u001b[0m\n",
      "\u001b[?25hCollecting nvidia-cusparse-cu12==12.1.0.106\n",
      "  Downloading nvidia_cusparse_cu12-12.1.0.106-py3-none-manylinux1_x86_64.whl (196.0 MB)\n",
      "\u001b[2K     \u001b[90m━━━━━━━━━━━━━━━━━━━━━━━━━━━━━━━━━━━━━━━\u001b[0m \u001b[32m196.0/196.0 MB\u001b[0m \u001b[31m4.8 MB/s\u001b[0m eta \u001b[36m0:00:00\u001b[0m00:01\u001b[0m00:01\u001b[0m\n",
      "\u001b[?25hCollecting nvidia-cuda-runtime-cu12==12.1.105\n",
      "  Downloading nvidia_cuda_runtime_cu12-12.1.105-py3-none-manylinux1_x86_64.whl (823 kB)\n",
      "\u001b[2K     \u001b[90m━━━━━━━━━━━━━━━━━━━━━━━━━━━━━━━━━━━━━━\u001b[0m \u001b[32m823.6/823.6 kB\u001b[0m \u001b[31m41.1 MB/s\u001b[0m eta \u001b[36m0:00:00\u001b[0m\n",
      "\u001b[?25hCollecting nvidia-cudnn-cu12==8.9.2.26\n",
      "  Downloading nvidia_cudnn_cu12-8.9.2.26-py3-none-manylinux1_x86_64.whl (731.7 MB)\n",
      "\u001b[2K     \u001b[90m━━━━━━━━━━━━━━━━━━━━━━━━━━━━━━━━━━━━━━━\u001b[0m \u001b[32m731.7/731.7 MB\u001b[0m \u001b[31m1.4 MB/s\u001b[0m eta \u001b[36m0:00:00\u001b[0m00:01\u001b[0m00:01\u001b[0m\n",
      "\u001b[?25hRequirement already satisfied: jinja2 in /home/clement/.pyenv/versions/3.10.6/envs/gameforecast-GPU/lib/python3.10/site-packages (from torch) (3.1.3)\n",
      "Collecting nvidia-cublas-cu12==12.1.3.1\n",
      "  Downloading nvidia_cublas_cu12-12.1.3.1-py3-none-manylinux1_x86_64.whl (410.6 MB)\n",
      "\u001b[2K     \u001b[90m━━━━━━━━━━━━━━━━━━━━━━━━━━━━━━━━━━━━━━━\u001b[0m \u001b[32m410.6/410.6 MB\u001b[0m \u001b[31m5.0 MB/s\u001b[0m eta \u001b[36m0:00:00\u001b[0m00:01\u001b[0m00:01\u001b[0m\n",
      "\u001b[?25hRequirement already satisfied: nvidia-nvjitlink-cu12 in /home/clement/.pyenv/versions/3.10.6/envs/gameforecast-GPU/lib/python3.10/site-packages (from nvidia-cusolver-cu12==11.4.5.107->torch) (12.3.101)\n",
      "Requirement already satisfied: MarkupSafe>=2.0 in /home/clement/.pyenv/versions/3.10.6/envs/gameforecast-GPU/lib/python3.10/site-packages (from jinja2->torch) (2.1.5)\n",
      "Collecting mpmath>=0.19\n",
      "  Downloading mpmath-1.3.0-py3-none-any.whl (536 kB)\n",
      "\u001b[2K     \u001b[90m━━━━━━━━━━━━━━━━━━━━━━━━━━━━━━━━━━━━━━\u001b[0m \u001b[32m536.2/536.2 kB\u001b[0m \u001b[31m29.3 MB/s\u001b[0m eta \u001b[36m0:00:00\u001b[0m\n",
      "\u001b[?25hInstalling collected packages: mpmath, triton, sympy, nvidia-nvtx-cu12, nvidia-cusparse-cu12, nvidia-curand-cu12, nvidia-cufft-cu12, nvidia-cuda-runtime-cu12, nvidia-cuda-nvrtc-cu12, nvidia-cuda-cupti-cu12, nvidia-cublas-cu12, networkx, nvidia-cusolver-cu12, nvidia-cudnn-cu12, torch\n",
      "  Attempting uninstall: nvidia-cusparse-cu12\n",
      "    Found existing installation: nvidia-cusparse-cu12 12.2.0.103\n",
      "    Uninstalling nvidia-cusparse-cu12-12.2.0.103:\n",
      "      Successfully uninstalled nvidia-cusparse-cu12-12.2.0.103\n",
      "  Attempting uninstall: nvidia-curand-cu12\n",
      "    Found existing installation: nvidia-curand-cu12 10.3.4.107\n",
      "    Uninstalling nvidia-curand-cu12-10.3.4.107:\n",
      "      Successfully uninstalled nvidia-curand-cu12-10.3.4.107\n",
      "  Attempting uninstall: nvidia-cufft-cu12\n",
      "    Found existing installation: nvidia-cufft-cu12 11.0.12.1\n",
      "    Uninstalling nvidia-cufft-cu12-11.0.12.1:\n",
      "      Successfully uninstalled nvidia-cufft-cu12-11.0.12.1\n",
      "  Attempting uninstall: nvidia-cuda-runtime-cu12\n",
      "    Found existing installation: nvidia-cuda-runtime-cu12 12.3.101\n",
      "    Uninstalling nvidia-cuda-runtime-cu12-12.3.101:\n",
      "      Successfully uninstalled nvidia-cuda-runtime-cu12-12.3.101\n",
      "  Attempting uninstall: nvidia-cuda-nvrtc-cu12\n",
      "    Found existing installation: nvidia-cuda-nvrtc-cu12 12.3.107\n",
      "    Uninstalling nvidia-cuda-nvrtc-cu12-12.3.107:\n",
      "      Successfully uninstalled nvidia-cuda-nvrtc-cu12-12.3.107\n",
      "  Attempting uninstall: nvidia-cuda-cupti-cu12\n",
      "    Found existing installation: nvidia-cuda-cupti-cu12 12.3.101\n",
      "    Uninstalling nvidia-cuda-cupti-cu12-12.3.101:\n",
      "      Successfully uninstalled nvidia-cuda-cupti-cu12-12.3.101\n",
      "  Attempting uninstall: nvidia-cublas-cu12\n",
      "    Found existing installation: nvidia-cublas-cu12 12.3.4.1\n",
      "    Uninstalling nvidia-cublas-cu12-12.3.4.1:\n",
      "      Successfully uninstalled nvidia-cublas-cu12-12.3.4.1\n",
      "  Attempting uninstall: nvidia-cusolver-cu12\n",
      "    Found existing installation: nvidia-cusolver-cu12 11.5.4.101\n",
      "    Uninstalling nvidia-cusolver-cu12-11.5.4.101:\n",
      "      Successfully uninstalled nvidia-cusolver-cu12-11.5.4.101\n",
      "  Attempting uninstall: nvidia-cudnn-cu12\n",
      "    Found existing installation: nvidia-cudnn-cu12 8.9.7.29\n",
      "    Uninstalling nvidia-cudnn-cu12-8.9.7.29:\n",
      "      Successfully uninstalled nvidia-cudnn-cu12-8.9.7.29\n",
      "Successfully installed mpmath-1.3.0 networkx-3.2.1 nvidia-cublas-cu12-12.1.3.1 nvidia-cuda-cupti-cu12-12.1.105 nvidia-cuda-nvrtc-cu12-12.1.105 nvidia-cuda-runtime-cu12-12.1.105 nvidia-cudnn-cu12-8.9.2.26 nvidia-cufft-cu12-11.0.2.54 nvidia-curand-cu12-10.3.2.106 nvidia-cusolver-cu12-11.4.5.107 nvidia-cusparse-cu12-12.1.0.106 nvidia-nvtx-cu12-12.1.105 sympy-1.12 torch-2.2.1 triton-2.2.0\n",
      "\n",
      "\u001b[1m[\u001b[0m\u001b[34;49mnotice\u001b[0m\u001b[1;39;49m]\u001b[0m\u001b[39;49m A new release of pip available: \u001b[0m\u001b[31;49m22.2.1\u001b[0m\u001b[39;49m -> \u001b[0m\u001b[32;49m24.0\u001b[0m\n",
      "\u001b[1m[\u001b[0m\u001b[34;49mnotice\u001b[0m\u001b[1;39;49m]\u001b[0m\u001b[39;49m To update, run: \u001b[0m\u001b[32;49mpython3.10 -m pip install --upgrade pip\u001b[0m\n"
     ]
    }
   ],
   "source": [
    "!pip install torch"
   ]
  },
  {
   "cell_type": "code",
   "execution_count": 1,
   "id": "aeaf619c-f326-4dec-add0-e0f508365d6f",
   "metadata": {
    "scrolled": true
   },
   "outputs": [
    {
     "name": "stderr",
     "output_type": "stream",
     "text": [
      "2024-03-22 16:28:08.853759: E external/local_xla/xla/stream_executor/cuda/cuda_dnn.cc:9261] Unable to register cuDNN factory: Attempting to register factory for plugin cuDNN when one has already been registered\n",
      "2024-03-22 16:28:08.853814: E external/local_xla/xla/stream_executor/cuda/cuda_fft.cc:607] Unable to register cuFFT factory: Attempting to register factory for plugin cuFFT when one has already been registered\n",
      "2024-03-22 16:28:08.855026: E external/local_xla/xla/stream_executor/cuda/cuda_blas.cc:1515] Unable to register cuBLAS factory: Attempting to register factory for plugin cuBLAS when one has already been registered\n",
      "2024-03-22 16:28:08.865028: I tensorflow/core/platform/cpu_feature_guard.cc:182] This TensorFlow binary is optimized to use available CPU instructions in performance-critical operations.\n",
      "To enable the following instructions: AVX2 FMA, in other operations, rebuild TensorFlow with the appropriate compiler flags.\n",
      "2024-03-22 16:28:09.777285: W tensorflow/compiler/tf2tensorrt/utils/py_utils.cc:38] TF-TRT Warning: Could not find TensorRT\n"
     ]
    }
   ],
   "source": [
    "import pandas as pd\n",
    "import numpy as np\n",
    "import json\n",
    "pd.set_option(\"display.max_columns\", None)\n",
    "from sklearn.model_selection import train_test_split\n",
    "\n",
    "from sklearn.model_selection import train_test_split\n",
    "from tensorflow.keras.models import Sequential\n",
    "from tensorflow.keras.layers import Embedding, LSTM, Dense, Dropout\n",
    "from tensorflow.keras.preprocessing.text import Tokenizer\n",
    "from tensorflow.keras.preprocessing.sequence import pad_sequences\n",
    "from transformers import AutoTokenizer, TFAutoModel\n",
    "from tensorflow.keras.layers import Dense, Input, Flatten\n",
    "from tensorflow.keras.models import Model"
   ]
  },
  {
   "cell_type": "code",
   "execution_count": 2,
   "id": "c79f4b5f-d6d5-459d-8d01-0f5ed4006e08",
   "metadata": {},
   "outputs": [],
   "source": [
    "X= pd.read_csv(\"raw_data/games_V4.csv\")\n",
    "y= pd.read_csv(\"raw_data/y_rating.csv\")"
   ]
  },
  {
   "cell_type": "code",
   "execution_count": 3,
   "id": "2bff9336-b2e2-47c5-bd10-d20fed589497",
   "metadata": {},
   "outputs": [],
   "source": [
    "X_test = X[:5000]\n",
    "y_test = y[:5000]"
   ]
  },
  {
   "cell_type": "code",
   "execution_count": 4,
   "id": "5fc6cdf1-2aa4-41f2-bdd8-d59e44a476e6",
   "metadata": {
    "scrolled": true
   },
   "outputs": [
    {
     "name": "stderr",
     "output_type": "stream",
     "text": [
      "/tmp/ipykernel_345350/2440506119.py:1: SettingWithCopyWarning: \n",
      "A value is trying to be set on a copy of a slice from a DataFrame\n",
      "\n",
      "See the caveats in the documentation: https://pandas.pydata.org/pandas-docs/stable/user_guide/indexing.html#returning-a-view-versus-a-copy\n",
      "  y_test.drop(columns=\"App_ID\",inplace=True)\n"
     ]
    }
   ],
   "source": [
    "y_test.drop(columns=\"App_ID\",inplace=True)"
   ]
  },
  {
   "cell_type": "code",
   "execution_count": 5,
   "id": "1ca911b0-66ac-444a-a277-febec77ef062",
   "metadata": {},
   "outputs": [],
   "source": [
    "Text = X_test[[\"App_ID\",\"About_The_Game\"]].copy()"
   ]
  },
  {
   "cell_type": "code",
   "execution_count": 6,
   "id": "bb5d4805-b761-4340-9695-cb1aa17f4352",
   "metadata": {},
   "outputs": [],
   "source": [
    "descriptions = Text['About_The_Game'].fillna(\"No Description\").values"
   ]
  },
  {
   "cell_type": "code",
   "execution_count": null,
   "id": "89d4ec9f-dacf-4135-8cfe-1ec9d0bca4ea",
   "metadata": {
    "jupyter": {
     "source_hidden": true
    }
   },
   "outputs": [],
   "source": [
    "import re\n",
    "\n",
    "# Function to split the words and remove punctuation from a string\n",
    "def clean_and_split_text(text):\n",
    "    # Remove punctuation\n",
    "    clean_text = re.sub(r'[^\\w\\s]', '', text)\n",
    "    # Split into words\n",
    "    words = clean_text.split()\n",
    "    return words\n",
    "\n",
    "# Clean and split each text in the array\n",
    "clean_texts = [clean_and_split_text(text) for text in descriptions]"
   ]
  },
  {
   "cell_type": "code",
   "execution_count": null,
   "id": "bcb6d870-7fa4-4fd5-8f60-646d78ce5d90",
   "metadata": {
    "jupyter": {
     "source_hidden": true
    },
    "scrolled": true
   },
   "outputs": [],
   "source": [
    "import matplotlib.pyplot as plt\n",
    "\n",
    "# Extract lengths of each list of words to create a histogram\n",
    "lengths = [len(text) for text in clean_texts]\n",
    "\n",
    "# Create the histogram\n",
    "plt.figure(figsize=[10,5])\n",
    "plt.hist(lengths, bins=range(min(lengths), max(lengths) + 1, 1), alpha=0.7, color='blue')\n",
    "plt.title('Distribution of Word Counts in Texts')\n",
    "plt.xlabel('Number of Words')\n",
    "plt.ylabel('Frequency')\n",
    "plt.grid(axis='y', alpha=0.75)"
   ]
  },
  {
   "cell_type": "code",
   "execution_count": 7,
   "id": "5e3f93b2-fe2f-43f3-a16c-130e3b7139fd",
   "metadata": {},
   "outputs": [],
   "source": [
    "ratings = y_test['Rating'].tolist()"
   ]
  },
  {
   "cell_type": "code",
   "execution_count": 8,
   "id": "8b65ee0b-3d02-4d63-9a7b-66ab22f2102e",
   "metadata": {},
   "outputs": [
    {
     "name": "stderr",
     "output_type": "stream",
     "text": [
      "2024-03-22 16:28:20.759842: I external/local_xla/xla/stream_executor/cuda/cuda_executor.cc:887] could not open file to read NUMA node: /sys/bus/pci/devices/0000:01:00.0/numa_node\n",
      "Your kernel may have been built without NUMA support.\n",
      "2024-03-22 16:28:20.761019: I external/local_xla/xla/stream_executor/cuda/cuda_executor.cc:887] could not open file to read NUMA node: /sys/bus/pci/devices/0000:01:00.0/numa_node\n",
      "Your kernel may have been built without NUMA support.\n",
      "2024-03-22 16:28:20.761061: I external/local_xla/xla/stream_executor/cuda/cuda_executor.cc:887] could not open file to read NUMA node: /sys/bus/pci/devices/0000:01:00.0/numa_node\n",
      "Your kernel may have been built without NUMA support.\n",
      "2024-03-22 16:28:20.762253: I external/local_xla/xla/stream_executor/cuda/cuda_executor.cc:887] could not open file to read NUMA node: /sys/bus/pci/devices/0000:01:00.0/numa_node\n",
      "Your kernel may have been built without NUMA support.\n",
      "2024-03-22 16:28:20.762301: I external/local_xla/xla/stream_executor/cuda/cuda_executor.cc:887] could not open file to read NUMA node: /sys/bus/pci/devices/0000:01:00.0/numa_node\n",
      "Your kernel may have been built without NUMA support.\n",
      "2024-03-22 16:28:20.762336: I external/local_xla/xla/stream_executor/cuda/cuda_executor.cc:887] could not open file to read NUMA node: /sys/bus/pci/devices/0000:01:00.0/numa_node\n",
      "Your kernel may have been built without NUMA support.\n",
      "2024-03-22 16:28:21.076588: I external/local_xla/xla/stream_executor/cuda/cuda_executor.cc:887] could not open file to read NUMA node: /sys/bus/pci/devices/0000:01:00.0/numa_node\n",
      "Your kernel may have been built without NUMA support.\n",
      "2024-03-22 16:28:21.076738: I external/local_xla/xla/stream_executor/cuda/cuda_executor.cc:887] could not open file to read NUMA node: /sys/bus/pci/devices/0000:01:00.0/numa_node\n",
      "Your kernel may have been built without NUMA support.\n",
      "2024-03-22 16:28:21.076748: I tensorflow/core/common_runtime/gpu/gpu_device.cc:2022] Could not identify NUMA node of platform GPU id 0, defaulting to 0.  Your kernel may not have been built with NUMA support.\n",
      "2024-03-22 16:28:21.076797: I external/local_xla/xla/stream_executor/cuda/cuda_executor.cc:887] could not open file to read NUMA node: /sys/bus/pci/devices/0000:01:00.0/numa_node\n",
      "Your kernel may have been built without NUMA support.\n",
      "2024-03-22 16:28:21.076816: I tensorflow/core/common_runtime/gpu/gpu_device.cc:1929] Created device /job:localhost/replica:0/task:0/device:GPU:0 with 9057 MB memory:  -> device: 0, name: NVIDIA GeForce RTX 2080 Ti, pci bus id: 0000:01:00.0, compute capability: 7.5\n"
     ]
    }
   ],
   "source": [
    "tokenizer = AutoTokenizer.from_pretrained('Twitter/twhin-bert-base')\n",
    "encodings = tokenizer(descriptions.tolist(), max_length=512, truncation=True, padding=True, return_tensors='tf')\n"
   ]
  },
  {
   "cell_type": "code",
   "execution_count": 26,
   "id": "081c981f-d4e5-4053-8375-b3c13769a4fd",
   "metadata": {
    "scrolled": true
   },
   "outputs": [],
   "source": [
    "tokenizer = AutoTokenizer.from_pretrained('prajjwal1/bert-tiny')\n",
    "encodings = tokenizer(descriptions.tolist(), max_length=512, truncation=True, padding=True, return_tensors='tf')\n"
   ]
  },
  {
   "cell_type": "code",
   "execution_count": 9,
   "id": "53fc71d5-49e9-4472-8918-85feecd354a2",
   "metadata": {},
   "outputs": [
    {
     "name": "stderr",
     "output_type": "stream",
     "text": [
      "2024-03-22 16:28:22.952283: I external/local_tsl/tsl/platform/default/subprocess.cc:304] Start cannot spawn child process: No such file or directory\n",
      "Some weights of the PyTorch model were not used when initializing the TF 2.0 model TFBertModel: ['cls.predictions.transform.LayerNorm.weight', 'cls.predictions.transform.dense.bias', 'cls.seq_relationship.weight', 'cls.predictions.decoder.bias', 'cls.predictions.bias', 'cls.seq_relationship.bias', 'cls.predictions.transform.LayerNorm.bias', 'cls.predictions.transform.dense.weight', 'bert.embeddings.position_ids', 'cls.predictions.decoder.weight']\n",
      "- This IS expected if you are initializing TFBertModel from a PyTorch model trained on another task or with another architecture (e.g. initializing a TFBertForSequenceClassification model from a BertForPreTraining model).\n",
      "- This IS NOT expected if you are initializing TFBertModel from a PyTorch model that you expect to be exactly identical (e.g. initializing a TFBertForSequenceClassification model from a BertForSequenceClassification model).\n",
      "All the weights of TFBertModel were initialized from the PyTorch model.\n",
      "If your task is similar to the task the model of the checkpoint was trained on, you can already use TFBertModel for predictions without further training.\n"
     ]
    }
   ],
   "source": [
    "bert_model = TFAutoModel.from_pretrained('prajjwal1/bert-tiny', from_pt=True)\n",
    "\n",
    "# Make all BERT layers non-trainable (freeze them)\n",
    "for layer in bert_model.layers:\n",
    "    layer.trainable = False\n",
    "\n",
    "# Build your custom model on top of BERT\n",
    "def initialize_model():\n",
    "    # Define the input layer\n",
    "    input_ids = Input(shape=(512,), dtype='int32', name='input_ids')  # Match BERT's input shape\n",
    "    attention_mask = Input(shape=(512,), dtype='int32', name='attention_mask')\n",
    "\n",
    "    # Get the embeddings from BERT\n",
    "    bert_output = bert_model([input_ids, attention_mask])[0]\n",
    "\n",
    "    x = Dense(8, activation=\"relu\")(bert_output[:, 0, :])  # Using the [CLS] token's embedding\n",
    "    output = Dense(1, activation=\"linear\")(x)\n",
    "    \n",
    "    model = Model(inputs=[input_ids, attention_mask], outputs=output)\n",
    "    model.compile(optimizer=\"adam\", loss=\"mean_squared_error\", metrics=[\"mean_absolute_error\"])\n",
    "\n",
    "    return model\n",
    "\n"
   ]
  },
  {
   "cell_type": "code",
   "execution_count": 10,
   "id": "4856d79f-4219-44a0-be9d-c34677ab329d",
   "metadata": {},
   "outputs": [],
   "source": [
    "model = initialize_model()"
   ]
  },
  {
   "cell_type": "code",
   "execution_count": 11,
   "id": "b57977be-3015-45a6-ba21-45e87600f873",
   "metadata": {},
   "outputs": [],
   "source": [
    "input_ids = np.array(encodings['input_ids'])  # Ensure this is a NumPy array\n",
    "attention_masks = np.array(encodings['attention_mask'])\n",
    "targets = np.array(y_test[\"Rating\"].tolist())"
   ]
  },
  {
   "cell_type": "code",
   "execution_count": 12,
   "id": "7adaa240-97b9-4137-b156-c39179598d7c",
   "metadata": {},
   "outputs": [
    {
     "name": "stdout",
     "output_type": "stream",
     "text": [
      "Epoch 1/3\n"
     ]
    },
    {
     "ename": "InvalidArgumentError",
     "evalue": "Graph execution error:\n\nDetected at node model/tf_bert_model/bert/embeddings/assert_less/Assert/Assert defined at (most recent call last):\n  File \"/home/clement/.pyenv/versions/3.10.6/lib/python3.10/runpy.py\", line 196, in _run_module_as_main\n\n  File \"/home/clement/.pyenv/versions/3.10.6/lib/python3.10/runpy.py\", line 86, in _run_code\n\n  File \"/home/clement/.pyenv/versions/3.10.6/envs/gameforecast-GPU/lib/python3.10/site-packages/ipykernel_launcher.py\", line 18, in <module>\n\n  File \"/home/clement/.pyenv/versions/3.10.6/envs/gameforecast-GPU/lib/python3.10/site-packages/traitlets/config/application.py\", line 1075, in launch_instance\n\n  File \"/home/clement/.pyenv/versions/3.10.6/envs/gameforecast-GPU/lib/python3.10/site-packages/ipykernel/kernelapp.py\", line 739, in start\n\n  File \"/home/clement/.pyenv/versions/3.10.6/envs/gameforecast-GPU/lib/python3.10/site-packages/tornado/platform/asyncio.py\", line 205, in start\n\n  File \"/home/clement/.pyenv/versions/3.10.6/lib/python3.10/asyncio/base_events.py\", line 600, in run_forever\n\n  File \"/home/clement/.pyenv/versions/3.10.6/lib/python3.10/asyncio/base_events.py\", line 1896, in _run_once\n\n  File \"/home/clement/.pyenv/versions/3.10.6/lib/python3.10/asyncio/events.py\", line 80, in _run\n\n  File \"/home/clement/.pyenv/versions/3.10.6/envs/gameforecast-GPU/lib/python3.10/site-packages/ipykernel/kernelbase.py\", line 545, in dispatch_queue\n\n  File \"/home/clement/.pyenv/versions/3.10.6/envs/gameforecast-GPU/lib/python3.10/site-packages/ipykernel/kernelbase.py\", line 534, in process_one\n\n  File \"/home/clement/.pyenv/versions/3.10.6/envs/gameforecast-GPU/lib/python3.10/site-packages/ipykernel/kernelbase.py\", line 437, in dispatch_shell\n\n  File \"/home/clement/.pyenv/versions/3.10.6/envs/gameforecast-GPU/lib/python3.10/site-packages/ipykernel/ipkernel.py\", line 359, in execute_request\n\n  File \"/home/clement/.pyenv/versions/3.10.6/envs/gameforecast-GPU/lib/python3.10/site-packages/ipykernel/kernelbase.py\", line 778, in execute_request\n\n  File \"/home/clement/.pyenv/versions/3.10.6/envs/gameforecast-GPU/lib/python3.10/site-packages/ipykernel/ipkernel.py\", line 446, in do_execute\n\n  File \"/home/clement/.pyenv/versions/3.10.6/envs/gameforecast-GPU/lib/python3.10/site-packages/ipykernel/zmqshell.py\", line 549, in run_cell\n\n  File \"/home/clement/.pyenv/versions/3.10.6/envs/gameforecast-GPU/lib/python3.10/site-packages/IPython/core/interactiveshell.py\", line 3075, in run_cell\n\n  File \"/home/clement/.pyenv/versions/3.10.6/envs/gameforecast-GPU/lib/python3.10/site-packages/IPython/core/interactiveshell.py\", line 3130, in _run_cell\n\n  File \"/home/clement/.pyenv/versions/3.10.6/envs/gameforecast-GPU/lib/python3.10/site-packages/IPython/core/async_helpers.py\", line 129, in _pseudo_sync_runner\n\n  File \"/home/clement/.pyenv/versions/3.10.6/envs/gameforecast-GPU/lib/python3.10/site-packages/IPython/core/interactiveshell.py\", line 3334, in run_cell_async\n\n  File \"/home/clement/.pyenv/versions/3.10.6/envs/gameforecast-GPU/lib/python3.10/site-packages/IPython/core/interactiveshell.py\", line 3517, in run_ast_nodes\n\n  File \"/home/clement/.pyenv/versions/3.10.6/envs/gameforecast-GPU/lib/python3.10/site-packages/IPython/core/interactiveshell.py\", line 3577, in run_code\n\n  File \"/tmp/ipykernel_345350/3787948633.py\", line 1, in <module>\n\n  File \"/home/clement/.pyenv/versions/3.10.6/envs/gameforecast-GPU/lib/python3.10/site-packages/keras/src/utils/traceback_utils.py\", line 65, in error_handler\n\n  File \"/home/clement/.pyenv/versions/3.10.6/envs/gameforecast-GPU/lib/python3.10/site-packages/keras/src/engine/training.py\", line 1807, in fit\n\n  File \"/home/clement/.pyenv/versions/3.10.6/envs/gameforecast-GPU/lib/python3.10/site-packages/keras/src/engine/training.py\", line 1401, in train_function\n\n  File \"/home/clement/.pyenv/versions/3.10.6/envs/gameforecast-GPU/lib/python3.10/site-packages/keras/src/engine/training.py\", line 1384, in step_function\n\n  File \"/home/clement/.pyenv/versions/3.10.6/envs/gameforecast-GPU/lib/python3.10/site-packages/keras/src/engine/training.py\", line 1373, in run_step\n\n  File \"/home/clement/.pyenv/versions/3.10.6/envs/gameforecast-GPU/lib/python3.10/site-packages/keras/src/engine/training.py\", line 1150, in train_step\n\n  File \"/home/clement/.pyenv/versions/3.10.6/envs/gameforecast-GPU/lib/python3.10/site-packages/keras/src/utils/traceback_utils.py\", line 65, in error_handler\n\n  File \"/home/clement/.pyenv/versions/3.10.6/envs/gameforecast-GPU/lib/python3.10/site-packages/keras/src/engine/training.py\", line 590, in __call__\n\n  File \"/home/clement/.pyenv/versions/3.10.6/envs/gameforecast-GPU/lib/python3.10/site-packages/keras/src/utils/traceback_utils.py\", line 65, in error_handler\n\n  File \"/home/clement/.pyenv/versions/3.10.6/envs/gameforecast-GPU/lib/python3.10/site-packages/keras/src/engine/base_layer.py\", line 1149, in __call__\n\n  File \"/home/clement/.pyenv/versions/3.10.6/envs/gameforecast-GPU/lib/python3.10/site-packages/keras/src/utils/traceback_utils.py\", line 96, in error_handler\n\n  File \"/home/clement/.pyenv/versions/3.10.6/envs/gameforecast-GPU/lib/python3.10/site-packages/keras/src/engine/functional.py\", line 515, in call\n\n  File \"/home/clement/.pyenv/versions/3.10.6/envs/gameforecast-GPU/lib/python3.10/site-packages/keras/src/engine/functional.py\", line 672, in _run_internal_graph\n\n  File \"/home/clement/.pyenv/versions/3.10.6/envs/gameforecast-GPU/lib/python3.10/site-packages/keras/src/utils/traceback_utils.py\", line 65, in error_handler\n\n  File \"/home/clement/.pyenv/versions/3.10.6/envs/gameforecast-GPU/lib/python3.10/site-packages/keras/src/engine/training.py\", line 590, in __call__\n\n  File \"/home/clement/.pyenv/versions/3.10.6/envs/gameforecast-GPU/lib/python3.10/site-packages/keras/src/utils/traceback_utils.py\", line 65, in error_handler\n\n  File \"/home/clement/.pyenv/versions/3.10.6/envs/gameforecast-GPU/lib/python3.10/site-packages/keras/src/engine/base_layer.py\", line 1149, in __call__\n\n  File \"/home/clement/.pyenv/versions/3.10.6/envs/gameforecast-GPU/lib/python3.10/site-packages/keras/src/utils/traceback_utils.py\", line 96, in error_handler\n\n  File \"/home/clement/.pyenv/versions/3.10.6/envs/gameforecast-GPU/lib/python3.10/site-packages/transformers/modeling_tf_utils.py\", line 1207, in run_call_with_unpacked_inputs\n\n  File \"/home/clement/.pyenv/versions/3.10.6/envs/gameforecast-GPU/lib/python3.10/site-packages/transformers/models/bert/modeling_tf_bert.py\", line 1234, in call\n\n  File \"/home/clement/.pyenv/versions/3.10.6/envs/gameforecast-GPU/lib/python3.10/site-packages/keras/src/utils/traceback_utils.py\", line 65, in error_handler\n\n  File \"/home/clement/.pyenv/versions/3.10.6/envs/gameforecast-GPU/lib/python3.10/site-packages/keras/src/engine/base_layer.py\", line 1149, in __call__\n\n  File \"/home/clement/.pyenv/versions/3.10.6/envs/gameforecast-GPU/lib/python3.10/site-packages/keras/src/utils/traceback_utils.py\", line 96, in error_handler\n\n  File \"/home/clement/.pyenv/versions/3.10.6/envs/gameforecast-GPU/lib/python3.10/site-packages/transformers/modeling_tf_utils.py\", line 1207, in run_call_with_unpacked_inputs\n\n  File \"/home/clement/.pyenv/versions/3.10.6/envs/gameforecast-GPU/lib/python3.10/site-packages/transformers/models/bert/modeling_tf_bert.py\", line 912, in call\n\n  File \"/home/clement/.pyenv/versions/3.10.6/envs/gameforecast-GPU/lib/python3.10/site-packages/keras/src/utils/traceback_utils.py\", line 65, in error_handler\n\n  File \"/home/clement/.pyenv/versions/3.10.6/envs/gameforecast-GPU/lib/python3.10/site-packages/keras/src/engine/base_layer.py\", line 1149, in __call__\n\n  File \"/home/clement/.pyenv/versions/3.10.6/envs/gameforecast-GPU/lib/python3.10/site-packages/keras/src/utils/traceback_utils.py\", line 96, in error_handler\n\n  File \"/home/clement/.pyenv/versions/3.10.6/envs/gameforecast-GPU/lib/python3.10/site-packages/transformers/models/bert/modeling_tf_bert.py\", line 205, in call\n\n  File \"/home/clement/.pyenv/versions/3.10.6/envs/gameforecast-GPU/lib/python3.10/site-packages/transformers/models/bert/modeling_tf_bert.py\", line 206, in call\n\n  File \"/home/clement/.pyenv/versions/3.10.6/envs/gameforecast-GPU/lib/python3.10/site-packages/transformers/tf_utils.py\", line 163, in check_embeddings_within_bounds\n\nassertion failed: [The maximum value of input_ids (Tensor(\\\"model/tf_bert_model/bert/embeddings/Max:0\\\", shape=(), dtype=int32)) must be smaller than the embedding layer\\'s input dimension (30522). The likely cause is some problem at tokenization time.] [Condition x < y did not hold element-wise:] [x (IteratorGetNext:0) = ] [[0 39016 4172...]...] [y (model/tf_bert_model/bert/embeddings/Cast/x:0) = ] [30522]\n\t [[{{node model/tf_bert_model/bert/embeddings/assert_less/Assert/Assert}}]] [Op:__inference_train_function_5075]",
     "output_type": "error",
     "traceback": [
      "\u001b[0;31m---------------------------------------------------------------------------\u001b[0m",
      "\u001b[0;31mInvalidArgumentError\u001b[0m                      Traceback (most recent call last)",
      "Cell \u001b[0;32mIn[12], line 1\u001b[0m\n\u001b[0;32m----> 1\u001b[0m \u001b[43mmodel\u001b[49m\u001b[38;5;241;43m.\u001b[39;49m\u001b[43mfit\u001b[49m\u001b[43m(\u001b[49m\u001b[43m[\u001b[49m\u001b[43minput_ids\u001b[49m\u001b[43m,\u001b[49m\u001b[43m \u001b[49m\u001b[43mattention_masks\u001b[49m\u001b[43m]\u001b[49m\u001b[43m,\u001b[49m\u001b[43m \u001b[49m\u001b[43mtargets\u001b[49m\u001b[43m,\u001b[49m\u001b[43m \u001b[49m\u001b[43mepochs\u001b[49m\u001b[38;5;241;43m=\u001b[39;49m\u001b[38;5;241;43m3\u001b[39;49m\u001b[43m,\u001b[49m\u001b[43m \u001b[49m\u001b[43mbatch_size\u001b[49m\u001b[38;5;241;43m=\u001b[39;49m\u001b[38;5;241;43m32\u001b[39;49m\u001b[43m)\u001b[49m\n",
      "File \u001b[0;32m~/.pyenv/versions/3.10.6/envs/gameforecast-GPU/lib/python3.10/site-packages/keras/src/utils/traceback_utils.py:70\u001b[0m, in \u001b[0;36mfilter_traceback.<locals>.error_handler\u001b[0;34m(*args, **kwargs)\u001b[0m\n\u001b[1;32m     67\u001b[0m     filtered_tb \u001b[38;5;241m=\u001b[39m _process_traceback_frames(e\u001b[38;5;241m.\u001b[39m__traceback__)\n\u001b[1;32m     68\u001b[0m     \u001b[38;5;66;03m# To get the full stack trace, call:\u001b[39;00m\n\u001b[1;32m     69\u001b[0m     \u001b[38;5;66;03m# `tf.debugging.disable_traceback_filtering()`\u001b[39;00m\n\u001b[0;32m---> 70\u001b[0m     \u001b[38;5;28;01mraise\u001b[39;00m e\u001b[38;5;241m.\u001b[39mwith_traceback(filtered_tb) \u001b[38;5;28;01mfrom\u001b[39;00m \u001b[38;5;28;01mNone\u001b[39;00m\n\u001b[1;32m     71\u001b[0m \u001b[38;5;28;01mfinally\u001b[39;00m:\n\u001b[1;32m     72\u001b[0m     \u001b[38;5;28;01mdel\u001b[39;00m filtered_tb\n",
      "File \u001b[0;32m~/.pyenv/versions/3.10.6/envs/gameforecast-GPU/lib/python3.10/site-packages/tensorflow/python/eager/execute.py:53\u001b[0m, in \u001b[0;36mquick_execute\u001b[0;34m(op_name, num_outputs, inputs, attrs, ctx, name)\u001b[0m\n\u001b[1;32m     51\u001b[0m \u001b[38;5;28;01mtry\u001b[39;00m:\n\u001b[1;32m     52\u001b[0m   ctx\u001b[38;5;241m.\u001b[39mensure_initialized()\n\u001b[0;32m---> 53\u001b[0m   tensors \u001b[38;5;241m=\u001b[39m pywrap_tfe\u001b[38;5;241m.\u001b[39mTFE_Py_Execute(ctx\u001b[38;5;241m.\u001b[39m_handle, device_name, op_name,\n\u001b[1;32m     54\u001b[0m                                       inputs, attrs, num_outputs)\n\u001b[1;32m     55\u001b[0m \u001b[38;5;28;01mexcept\u001b[39;00m core\u001b[38;5;241m.\u001b[39m_NotOkStatusException \u001b[38;5;28;01mas\u001b[39;00m e:\n\u001b[1;32m     56\u001b[0m   \u001b[38;5;28;01mif\u001b[39;00m name \u001b[38;5;129;01mis\u001b[39;00m \u001b[38;5;129;01mnot\u001b[39;00m \u001b[38;5;28;01mNone\u001b[39;00m:\n",
      "\u001b[0;31mInvalidArgumentError\u001b[0m: Graph execution error:\n\nDetected at node model/tf_bert_model/bert/embeddings/assert_less/Assert/Assert defined at (most recent call last):\n  File \"/home/clement/.pyenv/versions/3.10.6/lib/python3.10/runpy.py\", line 196, in _run_module_as_main\n\n  File \"/home/clement/.pyenv/versions/3.10.6/lib/python3.10/runpy.py\", line 86, in _run_code\n\n  File \"/home/clement/.pyenv/versions/3.10.6/envs/gameforecast-GPU/lib/python3.10/site-packages/ipykernel_launcher.py\", line 18, in <module>\n\n  File \"/home/clement/.pyenv/versions/3.10.6/envs/gameforecast-GPU/lib/python3.10/site-packages/traitlets/config/application.py\", line 1075, in launch_instance\n\n  File \"/home/clement/.pyenv/versions/3.10.6/envs/gameforecast-GPU/lib/python3.10/site-packages/ipykernel/kernelapp.py\", line 739, in start\n\n  File \"/home/clement/.pyenv/versions/3.10.6/envs/gameforecast-GPU/lib/python3.10/site-packages/tornado/platform/asyncio.py\", line 205, in start\n\n  File \"/home/clement/.pyenv/versions/3.10.6/lib/python3.10/asyncio/base_events.py\", line 600, in run_forever\n\n  File \"/home/clement/.pyenv/versions/3.10.6/lib/python3.10/asyncio/base_events.py\", line 1896, in _run_once\n\n  File \"/home/clement/.pyenv/versions/3.10.6/lib/python3.10/asyncio/events.py\", line 80, in _run\n\n  File \"/home/clement/.pyenv/versions/3.10.6/envs/gameforecast-GPU/lib/python3.10/site-packages/ipykernel/kernelbase.py\", line 545, in dispatch_queue\n\n  File \"/home/clement/.pyenv/versions/3.10.6/envs/gameforecast-GPU/lib/python3.10/site-packages/ipykernel/kernelbase.py\", line 534, in process_one\n\n  File \"/home/clement/.pyenv/versions/3.10.6/envs/gameforecast-GPU/lib/python3.10/site-packages/ipykernel/kernelbase.py\", line 437, in dispatch_shell\n\n  File \"/home/clement/.pyenv/versions/3.10.6/envs/gameforecast-GPU/lib/python3.10/site-packages/ipykernel/ipkernel.py\", line 359, in execute_request\n\n  File \"/home/clement/.pyenv/versions/3.10.6/envs/gameforecast-GPU/lib/python3.10/site-packages/ipykernel/kernelbase.py\", line 778, in execute_request\n\n  File \"/home/clement/.pyenv/versions/3.10.6/envs/gameforecast-GPU/lib/python3.10/site-packages/ipykernel/ipkernel.py\", line 446, in do_execute\n\n  File \"/home/clement/.pyenv/versions/3.10.6/envs/gameforecast-GPU/lib/python3.10/site-packages/ipykernel/zmqshell.py\", line 549, in run_cell\n\n  File \"/home/clement/.pyenv/versions/3.10.6/envs/gameforecast-GPU/lib/python3.10/site-packages/IPython/core/interactiveshell.py\", line 3075, in run_cell\n\n  File \"/home/clement/.pyenv/versions/3.10.6/envs/gameforecast-GPU/lib/python3.10/site-packages/IPython/core/interactiveshell.py\", line 3130, in _run_cell\n\n  File \"/home/clement/.pyenv/versions/3.10.6/envs/gameforecast-GPU/lib/python3.10/site-packages/IPython/core/async_helpers.py\", line 129, in _pseudo_sync_runner\n\n  File \"/home/clement/.pyenv/versions/3.10.6/envs/gameforecast-GPU/lib/python3.10/site-packages/IPython/core/interactiveshell.py\", line 3334, in run_cell_async\n\n  File \"/home/clement/.pyenv/versions/3.10.6/envs/gameforecast-GPU/lib/python3.10/site-packages/IPython/core/interactiveshell.py\", line 3517, in run_ast_nodes\n\n  File \"/home/clement/.pyenv/versions/3.10.6/envs/gameforecast-GPU/lib/python3.10/site-packages/IPython/core/interactiveshell.py\", line 3577, in run_code\n\n  File \"/tmp/ipykernel_345350/3787948633.py\", line 1, in <module>\n\n  File \"/home/clement/.pyenv/versions/3.10.6/envs/gameforecast-GPU/lib/python3.10/site-packages/keras/src/utils/traceback_utils.py\", line 65, in error_handler\n\n  File \"/home/clement/.pyenv/versions/3.10.6/envs/gameforecast-GPU/lib/python3.10/site-packages/keras/src/engine/training.py\", line 1807, in fit\n\n  File \"/home/clement/.pyenv/versions/3.10.6/envs/gameforecast-GPU/lib/python3.10/site-packages/keras/src/engine/training.py\", line 1401, in train_function\n\n  File \"/home/clement/.pyenv/versions/3.10.6/envs/gameforecast-GPU/lib/python3.10/site-packages/keras/src/engine/training.py\", line 1384, in step_function\n\n  File \"/home/clement/.pyenv/versions/3.10.6/envs/gameforecast-GPU/lib/python3.10/site-packages/keras/src/engine/training.py\", line 1373, in run_step\n\n  File \"/home/clement/.pyenv/versions/3.10.6/envs/gameforecast-GPU/lib/python3.10/site-packages/keras/src/engine/training.py\", line 1150, in train_step\n\n  File \"/home/clement/.pyenv/versions/3.10.6/envs/gameforecast-GPU/lib/python3.10/site-packages/keras/src/utils/traceback_utils.py\", line 65, in error_handler\n\n  File \"/home/clement/.pyenv/versions/3.10.6/envs/gameforecast-GPU/lib/python3.10/site-packages/keras/src/engine/training.py\", line 590, in __call__\n\n  File \"/home/clement/.pyenv/versions/3.10.6/envs/gameforecast-GPU/lib/python3.10/site-packages/keras/src/utils/traceback_utils.py\", line 65, in error_handler\n\n  File \"/home/clement/.pyenv/versions/3.10.6/envs/gameforecast-GPU/lib/python3.10/site-packages/keras/src/engine/base_layer.py\", line 1149, in __call__\n\n  File \"/home/clement/.pyenv/versions/3.10.6/envs/gameforecast-GPU/lib/python3.10/site-packages/keras/src/utils/traceback_utils.py\", line 96, in error_handler\n\n  File \"/home/clement/.pyenv/versions/3.10.6/envs/gameforecast-GPU/lib/python3.10/site-packages/keras/src/engine/functional.py\", line 515, in call\n\n  File \"/home/clement/.pyenv/versions/3.10.6/envs/gameforecast-GPU/lib/python3.10/site-packages/keras/src/engine/functional.py\", line 672, in _run_internal_graph\n\n  File \"/home/clement/.pyenv/versions/3.10.6/envs/gameforecast-GPU/lib/python3.10/site-packages/keras/src/utils/traceback_utils.py\", line 65, in error_handler\n\n  File \"/home/clement/.pyenv/versions/3.10.6/envs/gameforecast-GPU/lib/python3.10/site-packages/keras/src/engine/training.py\", line 590, in __call__\n\n  File \"/home/clement/.pyenv/versions/3.10.6/envs/gameforecast-GPU/lib/python3.10/site-packages/keras/src/utils/traceback_utils.py\", line 65, in error_handler\n\n  File \"/home/clement/.pyenv/versions/3.10.6/envs/gameforecast-GPU/lib/python3.10/site-packages/keras/src/engine/base_layer.py\", line 1149, in __call__\n\n  File \"/home/clement/.pyenv/versions/3.10.6/envs/gameforecast-GPU/lib/python3.10/site-packages/keras/src/utils/traceback_utils.py\", line 96, in error_handler\n\n  File \"/home/clement/.pyenv/versions/3.10.6/envs/gameforecast-GPU/lib/python3.10/site-packages/transformers/modeling_tf_utils.py\", line 1207, in run_call_with_unpacked_inputs\n\n  File \"/home/clement/.pyenv/versions/3.10.6/envs/gameforecast-GPU/lib/python3.10/site-packages/transformers/models/bert/modeling_tf_bert.py\", line 1234, in call\n\n  File \"/home/clement/.pyenv/versions/3.10.6/envs/gameforecast-GPU/lib/python3.10/site-packages/keras/src/utils/traceback_utils.py\", line 65, in error_handler\n\n  File \"/home/clement/.pyenv/versions/3.10.6/envs/gameforecast-GPU/lib/python3.10/site-packages/keras/src/engine/base_layer.py\", line 1149, in __call__\n\n  File \"/home/clement/.pyenv/versions/3.10.6/envs/gameforecast-GPU/lib/python3.10/site-packages/keras/src/utils/traceback_utils.py\", line 96, in error_handler\n\n  File \"/home/clement/.pyenv/versions/3.10.6/envs/gameforecast-GPU/lib/python3.10/site-packages/transformers/modeling_tf_utils.py\", line 1207, in run_call_with_unpacked_inputs\n\n  File \"/home/clement/.pyenv/versions/3.10.6/envs/gameforecast-GPU/lib/python3.10/site-packages/transformers/models/bert/modeling_tf_bert.py\", line 912, in call\n\n  File \"/home/clement/.pyenv/versions/3.10.6/envs/gameforecast-GPU/lib/python3.10/site-packages/keras/src/utils/traceback_utils.py\", line 65, in error_handler\n\n  File \"/home/clement/.pyenv/versions/3.10.6/envs/gameforecast-GPU/lib/python3.10/site-packages/keras/src/engine/base_layer.py\", line 1149, in __call__\n\n  File \"/home/clement/.pyenv/versions/3.10.6/envs/gameforecast-GPU/lib/python3.10/site-packages/keras/src/utils/traceback_utils.py\", line 96, in error_handler\n\n  File \"/home/clement/.pyenv/versions/3.10.6/envs/gameforecast-GPU/lib/python3.10/site-packages/transformers/models/bert/modeling_tf_bert.py\", line 205, in call\n\n  File \"/home/clement/.pyenv/versions/3.10.6/envs/gameforecast-GPU/lib/python3.10/site-packages/transformers/models/bert/modeling_tf_bert.py\", line 206, in call\n\n  File \"/home/clement/.pyenv/versions/3.10.6/envs/gameforecast-GPU/lib/python3.10/site-packages/transformers/tf_utils.py\", line 163, in check_embeddings_within_bounds\n\nassertion failed: [The maximum value of input_ids (Tensor(\\\"model/tf_bert_model/bert/embeddings/Max:0\\\", shape=(), dtype=int32)) must be smaller than the embedding layer\\'s input dimension (30522). The likely cause is some problem at tokenization time.] [Condition x < y did not hold element-wise:] [x (IteratorGetNext:0) = ] [[0 39016 4172...]...] [y (model/tf_bert_model/bert/embeddings/Cast/x:0) = ] [30522]\n\t [[{{node model/tf_bert_model/bert/embeddings/assert_less/Assert/Assert}}]] [Op:__inference_train_function_5075]"
     ]
    }
   ],
   "source": [
    "model.fit([input_ids, attention_masks], targets, epochs=3, batch_size=32)"
   ]
  }
 ],
 "metadata": {
  "kernelspec": {
   "display_name": "Python 3 (ipykernel)",
   "language": "python",
   "name": "python3"
  },
  "language_info": {
   "codemirror_mode": {
    "name": "ipython",
    "version": 3
   },
   "file_extension": ".py",
   "mimetype": "text/x-python",
   "name": "python",
   "nbconvert_exporter": "python",
   "pygments_lexer": "ipython3",
   "version": "3.10.6"
  }
 },
 "nbformat": 4,
 "nbformat_minor": 5
}
